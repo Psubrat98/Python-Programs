{
  "nbformat": 4,
  "nbformat_minor": 0,
  "metadata": {
    "colab": {
      "provenance": [],
      "authorship_tag": "ABX9TyPHHMO9AQ1fJj++7LnicGVJ",
      "include_colab_link": true
    },
    "kernelspec": {
      "name": "python3",
      "display_name": "Python 3"
    },
    "language_info": {
      "name": "python"
    }
  },
  "cells": [
    {
      "cell_type": "markdown",
      "metadata": {
        "id": "view-in-github",
        "colab_type": "text"
      },
      "source": [
        "<a href=\"https://colab.research.google.com/github/Psubrat98/Python-Programs/blob/main/Assessment/Convert_Mp3_to_WAV.ipynb\" target=\"_parent\"><img src=\"https://colab.research.google.com/assets/colab-badge.svg\" alt=\"Open In Colab\"/></a>"
      ]
    },
    {
      "cell_type": "markdown",
      "source": [
        "Installing required liabraries:"
      ],
      "metadata": {
        "id": "TOINJYxsJS9Q"
      }
    },
    {
      "cell_type": "code",
      "execution_count": 16,
      "metadata": {
        "colab": {
          "base_uri": "https://localhost:8080/"
        },
        "id": "adWf66M3I6Xi",
        "outputId": "9e528bd7-9eda-40a5-d32d-3d8000ff2a2f"
      },
      "outputs": [
        {
          "output_type": "stream",
          "name": "stdout",
          "text": [
            "Looking in indexes: https://pypi.org/simple, https://us-python.pkg.dev/colab-wheels/public/simple/\n",
            "Requirement already satisfied: ffmpeg in /usr/local/lib/python3.10/dist-packages (1.4)\n"
          ]
        }
      ],
      "source": [
        "pip install ffmpeg "
      ]
    },
    {
      "cell_type": "code",
      "source": [
        "pip install pydub\n"
      ],
      "metadata": {
        "colab": {
          "base_uri": "https://localhost:8080/"
        },
        "id": "sHSsrJe_J3bl",
        "outputId": "99db64bf-5b0c-4d80-f64c-bf88f588777f"
      },
      "execution_count": 17,
      "outputs": [
        {
          "output_type": "stream",
          "name": "stdout",
          "text": [
            "Looking in indexes: https://pypi.org/simple, https://us-python.pkg.dev/colab-wheels/public/simple/\n",
            "Requirement already satisfied: pydub in /usr/local/lib/python3.10/dist-packages (0.25.1)\n"
          ]
        }
      ]
    },
    {
      "cell_type": "markdown",
      "source": [
        "Importing required liabraries:"
      ],
      "metadata": {
        "id": "BmL6U-i-JcxW"
      }
    },
    {
      "cell_type": "code",
      "source": [
        "from pydub import AudioSegment"
      ],
      "metadata": {
        "id": "kD3vGNRLJas_"
      },
      "execution_count": 18,
      "outputs": []
    },
    {
      "cell_type": "markdown",
      "source": [
        "MP3 to WAV conversion:"
      ],
      "metadata": {
        "id": "2y4gLTPnKAgo"
      }
    },
    {
      "cell_type": "code",
      "source": [
        "#Loading Files Path to Variables\n",
        "input = '/content/Kesariya_320.mp3'\n",
        "output = 'Converted_music_file.wav'"
      ],
      "metadata": {
        "id": "XrCwU3h2JnG9"
      },
      "execution_count": 22,
      "outputs": []
    },
    {
      "cell_type": "markdown",
      "source": [
        "convert wav to mp3:"
      ],
      "metadata": {
        "id": "YhNrJdRwOUeY"
      }
    },
    {
      "cell_type": "code",
      "source": [
        "convert = AudioSegment.from_mp3(input)\n",
        "convert.export(output, format=\"wav\")"
      ],
      "metadata": {
        "colab": {
          "base_uri": "https://localhost:8080/"
        },
        "id": "1_rEFnWKMy1U",
        "outputId": "352db7cd-c446-4f63-ae55-bd2799e94616"
      },
      "execution_count": 23,
      "outputs": [
        {
          "output_type": "execute_result",
          "data": {
            "text/plain": [
              "<_io.BufferedRandom name='Converted_music_file.wav'>"
            ]
          },
          "metadata": {},
          "execution_count": 23
        }
      ]
    }
  ]
}