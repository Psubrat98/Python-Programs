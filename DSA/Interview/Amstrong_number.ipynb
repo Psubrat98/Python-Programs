{
  "nbformat": 4,
  "nbformat_minor": 0,
  "metadata": {
    "colab": {
      "provenance": [],
      "authorship_tag": "ABX9TyNvY+Ijc2KuI1BDMkvBhsaK",
      "include_colab_link": true
    },
    "kernelspec": {
      "name": "python3",
      "display_name": "Python 3"
    },
    "language_info": {
      "name": "python"
    },
    "accelerator": "GPU",
    "gpuClass": "standard"
  },
  "cells": [
    {
      "cell_type": "markdown",
      "metadata": {
        "id": "view-in-github",
        "colab_type": "text"
      },
      "source": [
        "<a href=\"https://colab.research.google.com/github/Psubrat98/Python-Programs/blob/main/DSA/Interview/Amstrong_number.ipynb\" target=\"_parent\"><img src=\"https://colab.research.google.com/assets/colab-badge.svg\" alt=\"Open In Colab\"/></a>"
      ]
    },
    {
      "cell_type": "markdown",
      "source": [
        "For 3 digit number:"
      ],
      "metadata": {
        "id": "kWDc0VePea4s"
      }
    },
    {
      "cell_type": "code",
      "source": [
        "num = int(input('Enter number:'))\n",
        "sum = 0\n",
        "temp = num\n",
        "while temp>0:\n",
        "  digit = temp % 10\n",
        "  sum += digit**3\n",
        "  temp //= 10\n",
        "if sum == num:\n",
        "  print(num, 'Is an amstrong number')\n",
        "else:\n",
        "  print(num, 'Is not an amstrong number')\n"
      ],
      "metadata": {
        "colab": {
          "base_uri": "https://localhost:8080/"
        },
        "id": "OK-kR4lUeWpE",
        "outputId": "876ee1b4-e461-432b-a241-475b9f5c5ee1"
      },
      "execution_count": 2,
      "outputs": [
        {
          "output_type": "stream",
          "name": "stdout",
          "text": [
            "Enter number:456\n",
            "456 Is not an amstrong number\n"
          ]
        }
      ]
    },
    {
      "cell_type": "markdown",
      "source": [
        "for n digit number:"
      ],
      "metadata": {
        "id": "WE4-1V2GgbZq"
      }
    },
    {
      "cell_type": "code",
      "source": [
        "n = int(input('Enter number:'))\n",
        "order = len(str(n))\n",
        "total_sum = 0\n",
        "temp = n\n",
        "while temp>0:\n",
        "  digit = temp % 10\n",
        "  total_sum += digit**order\n",
        "  temp //= 10\n",
        "if total_sum == n:\n",
        "  print(n, 'Is an amstrong number')\n",
        "else:\n",
        "  print(n, 'Is not an amstrong number')"
      ],
      "metadata": {
        "colab": {
          "base_uri": "https://localhost:8080/"
        },
        "id": "piPwb_GigKx1",
        "outputId": "464690c2-6d96-47a6-d66f-151770360efb"
      },
      "execution_count": 5,
      "outputs": [
        {
          "output_type": "stream",
          "name": "stdout",
          "text": [
            "Enter number:48685\n",
            "48685 Is not an amstrong number\n"
          ]
        }
      ]
    },
    {
      "cell_type": "code",
      "source": [],
      "metadata": {
        "id": "di9a_7Zvg6LL"
      },
      "execution_count": null,
      "outputs": []
    }
  ]
}