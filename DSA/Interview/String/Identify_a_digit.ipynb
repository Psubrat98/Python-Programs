{
  "nbformat": 4,
  "nbformat_minor": 0,
  "metadata": {
    "colab": {
      "provenance": [],
      "authorship_tag": "ABX9TyObEw72hdFdMvGO/XcWAJnt",
      "include_colab_link": true
    },
    "kernelspec": {
      "name": "python3",
      "display_name": "Python 3"
    },
    "language_info": {
      "name": "python"
    }
  },
  "cells": [
    {
      "cell_type": "markdown",
      "metadata": {
        "id": "view-in-github",
        "colab_type": "text"
      },
      "source": [
        "<a href=\"https://colab.research.google.com/github/Psubrat98/Python-Programs/blob/main/DSA/Interview/String/Identify_a_digit.ipynb\" target=\"_parent\"><img src=\"https://colab.research.google.com/assets/colab-badge.svg\" alt=\"Open In Colab\"/></a>"
      ]
    },
    {
      "cell_type": "code",
      "source": [
        "ch = input(\"Enter a character : \") \n",
        "if ch >= '0' and ch <= '9': #comparing the value of ‘ch’ \n",
        "\t# if the condition holds true then this block will execute\n",
        "    \tprint(\"Given Character \", ch, \"is a Digit\")\n",
        "else: #this block will execute if the condition will not satisfies\n",
        "    print(\"Given Character \", ch, \"is not a Digit\")"
      ],
      "metadata": {
        "id": "bJKGjKWkNyvy",
        "colab": {
          "base_uri": "https://localhost:8080/"
        },
        "outputId": "a99c2d72-1bc8-4428-8871-083cdbfe05d8"
      },
      "execution_count": 1,
      "outputs": [
        {
          "output_type": "stream",
          "name": "stdout",
          "text": [
            "Enter a character : 6\n",
            "Given Character  6 is a Digit\n"
          ]
        }
      ]
    },
    {
      "cell_type": "code",
      "source": [],
      "metadata": {
        "id": "XxJp3sUyefnr"
      },
      "execution_count": null,
      "outputs": []
    }
  ]
}