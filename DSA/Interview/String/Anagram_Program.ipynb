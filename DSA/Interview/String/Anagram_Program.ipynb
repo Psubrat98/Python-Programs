{
  "nbformat": 4,
  "nbformat_minor": 0,
  "metadata": {
    "colab": {
      "provenance": [],
      "authorship_tag": "ABX9TyPNieGQZKj4hAjhWs2/aVdV",
      "include_colab_link": true
    },
    "kernelspec": {
      "name": "python3",
      "display_name": "Python 3"
    },
    "language_info": {
      "name": "python"
    }
  },
  "cells": [
    {
      "cell_type": "markdown",
      "metadata": {
        "id": "view-in-github",
        "colab_type": "text"
      },
      "source": [
        "<a href=\"https://colab.research.google.com/github/Psubrat98/Python-Programs/blob/main/DSA/Interview/String/Anagram_Program.ipynb\" target=\"_parent\"><img src=\"https://colab.research.google.com/assets/colab-badge.svg\" alt=\"Open In Colab\"/></a>"
      ]
    },
    {
      "cell_type": "code",
      "source": [
        "def anagram_check(str1, sttr2):\n",
        "  if(sorted(str1)==sorted(str2)):\n",
        "    return True\n",
        "  else:\n",
        "    return False\n",
        "\n",
        "str1 = input()\n",
        "str2 = input()\n",
        "if anagram_check(str1, str2):\n",
        "  print('Anagram')\n",
        "else:\n",
        "  print('Not anagram')"
      ],
      "metadata": {
        "id": "bJKGjKWkNyvy",
        "colab": {
          "base_uri": "https://localhost:8080/"
        },
        "outputId": "57cf9359-467d-4202-b3fa-37c7934c65c5"
      },
      "execution_count": 1,
      "outputs": [
        {
          "output_type": "stream",
          "name": "stdout",
          "text": [
            "on\n",
            "no\n",
            "Anagram\n"
          ]
        }
      ]
    },
    {
      "cell_type": "code",
      "source": [],
      "metadata": {
        "id": "XxJp3sUyefnr"
      },
      "execution_count": null,
      "outputs": []
    }
  ]
}