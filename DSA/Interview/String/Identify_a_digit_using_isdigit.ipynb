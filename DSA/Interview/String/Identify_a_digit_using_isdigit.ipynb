{
  "nbformat": 4,
  "nbformat_minor": 0,
  "metadata": {
    "colab": {
      "provenance": [],
      "authorship_tag": "ABX9TyPT4Zav8JDmz+aMrtRISGcu",
      "include_colab_link": true
    },
    "kernelspec": {
      "name": "python3",
      "display_name": "Python 3"
    },
    "language_info": {
      "name": "python"
    }
  },
  "cells": [
    {
      "cell_type": "markdown",
      "metadata": {
        "id": "view-in-github",
        "colab_type": "text"
      },
      "source": [
        "<a href=\"https://colab.research.google.com/github/Psubrat98/Python-Programs/blob/main/DSA/Interview/String/Identify_a_digit_using_isdigit.ipynb\" target=\"_parent\"><img src=\"https://colab.research.google.com/assets/colab-badge.svg\" alt=\"Open In Colab\"/></a>"
      ]
    },
    {
      "cell_type": "code",
      "source": [
        "# taking input from user\n",
        "ch = input(\"Enter a character : \") \n",
        "# checks if character ‘ch’ is digit or not\n",
        "if(ch.isdigit()): \n",
        "     #if ‘ch.digit()’ returns “True”\n",
        "    print(\"The Given Character \", ch, \"is a Digit\")\n",
        "else:\n",
        "      #if ‘ch.digit()’ returns “False”\n",
        "    print(\"The Given Character \", ch, \"is not a Digit\")"
      ],
      "metadata": {
        "id": "bJKGjKWkNyvy",
        "colab": {
          "base_uri": "https://localhost:8080/"
        },
        "outputId": "9910d0ef-9d32-4436-a690-c9a3abc0bd20"
      },
      "execution_count": 2,
      "outputs": [
        {
          "output_type": "stream",
          "name": "stdout",
          "text": [
            "Enter a character : 8\n",
            "The Given Character  8 is a Digit\n"
          ]
        }
      ]
    },
    {
      "cell_type": "code",
      "source": [],
      "metadata": {
        "id": "XxJp3sUyefnr"
      },
      "execution_count": null,
      "outputs": []
    }
  ]
}