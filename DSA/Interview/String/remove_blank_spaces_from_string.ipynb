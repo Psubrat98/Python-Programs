{
  "nbformat": 4,
  "nbformat_minor": 0,
  "metadata": {
    "colab": {
      "provenance": [],
      "authorship_tag": "ABX9TyP4OHXt+yubrVmenCtIZOcZ",
      "include_colab_link": true
    },
    "kernelspec": {
      "name": "python3",
      "display_name": "Python 3"
    },
    "language_info": {
      "name": "python"
    }
  },
  "cells": [
    {
      "cell_type": "markdown",
      "metadata": {
        "id": "view-in-github",
        "colab_type": "text"
      },
      "source": [
        "<a href=\"https://colab.research.google.com/github/Psubrat98/Python-Programs/blob/main/DSA/Interview/String/remove_blank_spaces_from_string.ipynb\" target=\"_parent\"><img src=\"https://colab.research.google.com/assets/colab-badge.svg\" alt=\"Open In Colab\"/></a>"
      ]
    },
    {
      "cell_type": "code",
      "source": [
        "#taking string as an input from the user\n",
        "string = input(\"Enter a String : \")\n",
        "result = ''\n",
        "#checks for each character in the string\n",
        "for i in string: \n",
        "\t#if character of the string is an alphabet\n",
        "  if i!=' ':\n",
        "    result += i\n",
        "print(result)"
      ],
      "metadata": {
        "id": "XxJp3sUyefnr",
        "colab": {
          "base_uri": "https://localhost:8080/"
        },
        "outputId": "115eb1e3-01f6-4d82-a8e0-bdcd8d0b081c"
      },
      "execution_count": 6,
      "outputs": [
        {
          "output_type": "stream",
          "name": "stdout",
          "text": [
            "Enter a String : dfhg uhd hg\n",
            "dfhguhdhg\n"
          ]
        }
      ]
    },
    {
      "cell_type": "code",
      "source": [],
      "metadata": {
        "id": "g2CCHNFg6qV0"
      },
      "execution_count": null,
      "outputs": []
    }
  ]
}