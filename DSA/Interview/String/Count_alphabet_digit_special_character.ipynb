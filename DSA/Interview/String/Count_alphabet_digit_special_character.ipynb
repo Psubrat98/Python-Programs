{
  "nbformat": 4,
  "nbformat_minor": 0,
  "metadata": {
    "colab": {
      "provenance": [],
      "authorship_tag": "ABX9TyP11hFuCQCDhFYVJpPcnZMt",
      "include_colab_link": true
    },
    "kernelspec": {
      "name": "python3",
      "display_name": "Python 3"
    },
    "language_info": {
      "name": "python"
    }
  },
  "cells": [
    {
      "cell_type": "markdown",
      "metadata": {
        "id": "view-in-github",
        "colab_type": "text"
      },
      "source": [
        "<a href=\"https://colab.research.google.com/github/Psubrat98/Python-Programs/blob/main/DSA/Interview/String/Count_alphabet_digit_special_character.ipynb\" target=\"_parent\"><img src=\"https://colab.research.google.com/assets/colab-badge.svg\" alt=\"Open In Colab\"/></a>"
      ]
    },
    {
      "cell_type": "code",
      "source": [
        "#taking string as an input from the user\n",
        "string = input(\"Enter a String : \")\n",
        "alphabets=0\n",
        "digits=0\n",
        "specialChars=0\n",
        "#checks for each character in the string\n",
        "for i in string: \n",
        "\t#if character of the string is an alphabet\n",
        "  if i.isalpha():\n",
        "    alphabets+=1\n",
        "\t\t#if character of the string is a digit\n",
        "  elif i.isdigit():\n",
        "    digits+=1\n",
        "  else: #if character of the string is a special character\n",
        "    specialChars+=1\n",
        "print(\"alphabets =\",alphabets,\"digits =\",digits,\"specialChars =\",specialChars)"
      ],
      "metadata": {
        "id": "XxJp3sUyefnr",
        "colab": {
          "base_uri": "https://localhost:8080/"
        },
        "outputId": "600ac8a1-5194-47fa-ed48-2b09382f09ad"
      },
      "execution_count": 5,
      "outputs": [
        {
          "output_type": "stream",
          "name": "stdout",
          "text": [
            "Enter a String : dvs45#%#fg\n",
            "alphabets = 5 digits = 2 specialChars = 3\n"
          ]
        }
      ]
    },
    {
      "cell_type": "code",
      "source": [],
      "metadata": {
        "id": "g2CCHNFg6qV0"
      },
      "execution_count": null,
      "outputs": []
    }
  ]
}