{
  "nbformat": 4,
  "nbformat_minor": 0,
  "metadata": {
    "colab": {
      "provenance": [],
      "authorship_tag": "ABX9TyPDdQ9tjUjPoV4EUb6j5GPh",
      "include_colab_link": true
    },
    "kernelspec": {
      "name": "python3",
      "display_name": "Python 3"
    },
    "language_info": {
      "name": "python"
    }
  },
  "cells": [
    {
      "cell_type": "markdown",
      "metadata": {
        "id": "view-in-github",
        "colab_type": "text"
      },
      "source": [
        "<a href=\"https://colab.research.google.com/github/Psubrat98/Python-Programs/blob/main/DSA/Interview/String/Replace_string__with_character.ipynb\" target=\"_parent\"><img src=\"https://colab.research.google.com/assets/colab-badge.svg\" alt=\"Open In Colab\"/></a>"
      ]
    },
    {
      "cell_type": "code",
      "source": [
        "#taking input from the user\n",
        "string = input(\"Enter a String : \")\n",
        "result = ''  #empty string\n",
        "ch = input(\"Enter a Character : \")\n",
        "for i in string:  #iterating using for loop\n",
        "        if i == ' ':  #if any space found in the string\n",
        "            i = ch   #replacing space with character\n",
        "        result += i   #concatenating each character of the string without space\n",
        "print(“String after removing space with t = ”,result)"
      ],
      "metadata": {
        "id": "XxJp3sUyefnr"
      },
      "execution_count": null,
      "outputs": []
    }
  ]
}