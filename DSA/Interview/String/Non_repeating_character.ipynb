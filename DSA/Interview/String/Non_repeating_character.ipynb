{
  "nbformat": 4,
  "nbformat_minor": 0,
  "metadata": {
    "colab": {
      "provenance": [],
      "authorship_tag": "ABX9TyPtYnAhqG0HpkvJlVBIFT/6",
      "include_colab_link": true
    },
    "kernelspec": {
      "name": "python3",
      "display_name": "Python 3"
    },
    "language_info": {
      "name": "python"
    }
  },
  "cells": [
    {
      "cell_type": "markdown",
      "metadata": {
        "id": "view-in-github",
        "colab_type": "text"
      },
      "source": [
        "<a href=\"https://colab.research.google.com/github/Psubrat98/Python-Programs/blob/main/DSA/Interview/String/Non_repeating_character.ipynb\" target=\"_parent\"><img src=\"https://colab.research.google.com/assets/colab-badge.svg\" alt=\"Open In Colab\"/></a>"
      ]
    },
    {
      "cell_type": "code",
      "source": [
        "#taking inputs from the user\n",
        "str = input('Enter first string: ')\n",
        "result = ''\n",
        "count = 0\n",
        "for i in str:\n",
        "  if str.count(i) == 1:\n",
        "    result += i\n",
        "print(result)\n"
      ],
      "metadata": {
        "id": "XxJp3sUyefnr",
        "colab": {
          "base_uri": "https://localhost:8080/"
        },
        "outputId": "a229ecc1-e1e2-4bfa-84e8-b1cbdc171592"
      },
      "execution_count": 19,
      "outputs": [
        {
          "output_type": "stream",
          "name": "stdout",
          "text": [
            "Enter first string: hgahfdghfgh\n",
            "ad\n"
          ]
        }
      ]
    },
    {
      "cell_type": "code",
      "source": [],
      "metadata": {
        "id": "RxlUaeLb97Ow"
      },
      "execution_count": null,
      "outputs": []
    }
  ]
}