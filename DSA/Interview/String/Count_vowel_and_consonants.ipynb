{
  "nbformat": 4,
  "nbformat_minor": 0,
  "metadata": {
    "colab": {
      "provenance": [],
      "authorship_tag": "ABX9TyPkF0e5Oru1nJIPS1TJ4zq0",
      "include_colab_link": true
    },
    "kernelspec": {
      "name": "python3",
      "display_name": "Python 3"
    },
    "language_info": {
      "name": "python"
    }
  },
  "cells": [
    {
      "cell_type": "markdown",
      "metadata": {
        "id": "view-in-github",
        "colab_type": "text"
      },
      "source": [
        "<a href=\"https://colab.research.google.com/github/Psubrat98/Python-Programs/blob/main/DSA/Interview/String/Count_vowel_and_consonants.ipynb\" target=\"_parent\"><img src=\"https://colab.research.google.com/assets/colab-badge.svg\" alt=\"Open In Colab\"/></a>"
      ]
    },
    {
      "cell_type": "code",
      "source": [
        "#taking the input string from the user\n",
        "string = input(\"Enter a String : \") \n",
        "vowels = 0\n",
        "consonants = 0\n",
        "for i in string:  \n",
        "#iterating through each character of the string\n",
        "    if i in ('a', 'e', 'i', 'o', 'u', 'A', 'E', 'I', 'O', 'U'):  \n",
        "      vowels += 1\n",
        "    elif i.isalpha():\n",
        "      consonants += 1\n",
        "print(\"Vowels :\",vowels,\"Consonants:\",consonants)\n"
      ],
      "metadata": {
        "id": "XxJp3sUyefnr",
        "colab": {
          "base_uri": "https://localhost:8080/"
        },
        "outputId": "1063ba66-c680-4493-c1d5-050860469e6a"
      },
      "execution_count": 2,
      "outputs": [
        {
          "output_type": "stream",
          "name": "stdout",
          "text": [
            "Enter a String : subrat\n",
            "Vowels : 2 Consonants: 4\n"
          ]
        }
      ]
    }
  ]
}