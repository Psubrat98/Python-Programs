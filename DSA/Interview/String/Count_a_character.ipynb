{
  "nbformat": 4,
  "nbformat_minor": 0,
  "metadata": {
    "colab": {
      "provenance": [],
      "authorship_tag": "ABX9TyPyt7fvqgH8LNUDeq1SAPJL",
      "include_colab_link": true
    },
    "kernelspec": {
      "name": "python3",
      "display_name": "Python 3"
    },
    "language_info": {
      "name": "python"
    }
  },
  "cells": [
    {
      "cell_type": "markdown",
      "metadata": {
        "id": "view-in-github",
        "colab_type": "text"
      },
      "source": [
        "<a href=\"https://colab.research.google.com/github/Psubrat98/Python-Programs/blob/main/DSA/Interview/String/Count_a_character.ipynb\" target=\"_parent\"><img src=\"https://colab.research.google.com/assets/colab-badge.svg\" alt=\"Open In Colab\"/></a>"
      ]
    },
    {
      "cell_type": "code",
      "execution_count": 2,
      "metadata": {
        "colab": {
          "base_uri": "https://localhost:8080/"
        },
        "id": "6xRUbh-fNb_B",
        "outputId": "e43ab9c4-26b3-4bdc-f801-1c158cc6aeb2"
      },
      "outputs": [
        {
          "output_type": "stream",
          "name": "stdout",
          "text": [
            "Please enter String : this is a boy\n",
            "Please enter a Character :  \n",
            "Total Number of occurence of    is : 3\n"
          ]
        }
      ],
      "source": [
        "string = input(\"Please enter String : \")\n",
        "char = input(\"Please enter a Character : \")\n",
        "count = 0\n",
        "for i in range(len(string)):\n",
        "    if(string[i] == char):\n",
        "        count = count + 1\n",
        "print(\"Total Number of occurence of \", char, \"is :\" , count)\n"
      ]
    },
    {
      "cell_type": "code",
      "source": [],
      "metadata": {
        "id": "bJKGjKWkNyvy"
      },
      "execution_count": null,
      "outputs": []
    }
  ]
}