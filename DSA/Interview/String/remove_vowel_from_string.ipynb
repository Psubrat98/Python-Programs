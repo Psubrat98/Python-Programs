{
  "nbformat": 4,
  "nbformat_minor": 0,
  "metadata": {
    "colab": {
      "provenance": [],
      "authorship_tag": "ABX9TyM/IaarFycJ/cxpv+usLwq4",
      "include_colab_link": true
    },
    "kernelspec": {
      "name": "python3",
      "display_name": "Python 3"
    },
    "language_info": {
      "name": "python"
    }
  },
  "cells": [
    {
      "cell_type": "markdown",
      "metadata": {
        "id": "view-in-github",
        "colab_type": "text"
      },
      "source": [
        "<a href=\"https://colab.research.google.com/github/Psubrat98/Python-Programs/blob/main/DSA/Interview/String/remove_vowel_from_string.ipynb\" target=\"_parent\"><img src=\"https://colab.research.google.com/assets/colab-badge.svg\" alt=\"Open In Colab\"/></a>"
      ]
    },
    {
      "cell_type": "code",
      "source": [
        "#taking the input string from the user\n",
        "string = input(\"Enter a String : \") \n",
        "result=''\n",
        "for i in string:  \n",
        "#iterating through each character of the string\n",
        "    if i in ('a', 'e', 'i', 'o', 'u', 'A', 'E', 'I', 'O', 'U'):  \n",
        "     #seaching for vowels\n",
        "        i = ''  \n",
        "#if vowel found replace it with empty string\n",
        "    result += i \n",
        "    #concatenate rest of the string\n",
        "print(\"String after removing the vowels :\",result)"
      ],
      "metadata": {
        "id": "XxJp3sUyefnr",
        "colab": {
          "base_uri": "https://localhost:8080/"
        },
        "outputId": "9db86591-cfcb-4041-f520-39b44991d703"
      },
      "execution_count": 2,
      "outputs": [
        {
          "output_type": "stream",
          "name": "stdout",
          "text": [
            "Enter a String : aaaaooooeee\n",
            "String after removing the vowels : \n"
          ]
        }
      ]
    },
    {
      "cell_type": "code",
      "source": [],
      "metadata": {
        "id": "3pfMiIVPItzD"
      },
      "execution_count": null,
      "outputs": []
    }
  ]
}