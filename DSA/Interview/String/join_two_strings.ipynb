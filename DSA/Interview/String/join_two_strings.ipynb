{
  "nbformat": 4,
  "nbformat_minor": 0,
  "metadata": {
    "colab": {
      "provenance": [],
      "authorship_tag": "ABX9TyNGhaM6vamwUQs/aMa3ILH/",
      "include_colab_link": true
    },
    "kernelspec": {
      "name": "python3",
      "display_name": "Python 3"
    },
    "language_info": {
      "name": "python"
    }
  },
  "cells": [
    {
      "cell_type": "markdown",
      "metadata": {
        "id": "view-in-github",
        "colab_type": "text"
      },
      "source": [
        "<a href=\"https://colab.research.google.com/github/Psubrat98/Python-Programs/blob/main/DSA/Interview/String/join_two_strings.ipynb\" target=\"_parent\"><img src=\"https://colab.research.google.com/assets/colab-badge.svg\" alt=\"Open In Colab\"/></a>"
      ]
    },
    {
      "cell_type": "code",
      "source": [
        "#taking inputs from the user\n",
        "str1 = input('Enter first string: ')\n",
        "str2 = input('Enter second string: ')\n",
        "#printing the output after using join() method\n",
        "print(\"String after concatenation :\",\"\".join([str1, str2]))"
      ],
      "metadata": {
        "id": "XxJp3sUyefnr",
        "colab": {
          "base_uri": "https://localhost:8080/"
        },
        "outputId": "f3e69115-770d-43f2-cca1-d1e991ffcd8b"
      },
      "execution_count": 9,
      "outputs": [
        {
          "output_type": "stream",
          "name": "stdout",
          "text": [
            "Enter first string: sub\n",
            "Enter second string: rat\n",
            "String after concatenation : subrat\n"
          ]
        }
      ]
    },
    {
      "cell_type": "code",
      "source": [],
      "metadata": {
        "id": "RxlUaeLb97Ow"
      },
      "execution_count": null,
      "outputs": []
    }
  ]
}