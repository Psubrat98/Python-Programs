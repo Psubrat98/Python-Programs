{
  "nbformat": 4,
  "nbformat_minor": 0,
  "metadata": {
    "colab": {
      "provenance": [],
      "authorship_tag": "ABX9TyNumgq4MCEbedJkQJCIrr1d",
      "include_colab_link": true
    },
    "kernelspec": {
      "name": "python3",
      "display_name": "Python 3"
    },
    "language_info": {
      "name": "python"
    }
  },
  "cells": [
    {
      "cell_type": "markdown",
      "metadata": {
        "id": "view-in-github",
        "colab_type": "text"
      },
      "source": [
        "<a href=\"https://colab.research.google.com/github/Psubrat98/Python-Programs/blob/main/DSA/Interview/Reverse_number.ipynb\" target=\"_parent\"><img src=\"https://colab.research.google.com/assets/colab-badge.svg\" alt=\"Open In Colab\"/></a>"
      ]
    },
    {
      "cell_type": "code",
      "source": [
        "n = int(input(\"please give a number : \"))\n",
        "print(\"before reverse your numeber is : \" ,n)\n",
        "reverse = 0\n",
        "while n!=0:\n",
        "    reverse = reverse*10 + n%10       \n",
        "    n = (n//10)\n",
        "print(\"After reverse : \" ,reverse) \n"
      ],
      "metadata": {
        "id": "w6ARWJ3yOVng",
        "colab": {
          "base_uri": "https://localhost:8080/"
        },
        "outputId": "5ae45f2b-d2a8-4de8-82e6-0b42dda6aa9d"
      },
      "execution_count": 5,
      "outputs": [
        {
          "output_type": "stream",
          "name": "stdout",
          "text": [
            "please give a number : 421\n",
            "before reverse your numeber is :  421\n",
            "After reverse :  124\n"
          ]
        }
      ]
    }
  ]
}