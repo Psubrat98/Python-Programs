{
  "nbformat": 4,
  "nbformat_minor": 0,
  "metadata": {
    "colab": {
      "provenance": [],
      "authorship_tag": "ABX9TyNVDlsnzdWnVw9VuYXoDBIZ",
      "include_colab_link": true
    },
    "kernelspec": {
      "name": "python3",
      "display_name": "Python 3"
    },
    "language_info": {
      "name": "python"
    },
    "gpuClass": "standard"
  },
  "cells": [
    {
      "cell_type": "markdown",
      "metadata": {
        "id": "view-in-github",
        "colab_type": "text"
      },
      "source": [
        "<a href=\"https://colab.research.google.com/github/Psubrat98/Python-Programs/blob/main/DSA/Interview/greatest_number.ipynb\" target=\"_parent\"><img src=\"https://colab.research.google.com/assets/colab-badge.svg\" alt=\"Open In Colab\"/></a>"
      ]
    },
    {
      "cell_type": "code",
      "source": [
        "n1 = int(input())\n",
        "n2 = int(input())\n",
        "n3 = int(input())\n",
        "if n1>n2 and n1>n3:\n",
        "  print(n1, 'is greatest number')\n",
        "elif n2>n1 and n2>n3:\n",
        "  print(n2, 'is greatest number')\n",
        "else:\n",
        "  print(n3, 'is greatest number')"
      ],
      "metadata": {
        "colab": {
          "base_uri": "https://localhost:8080/"
        },
        "id": "rGD1zAwb6zQo",
        "outputId": "e4349f92-672e-44ba-a6a1-155494422655"
      },
      "execution_count": 18,
      "outputs": [
        {
          "output_type": "stream",
          "name": "stdout",
          "text": [
            "1\n",
            "8\n",
            "6\n",
            "8 is greatest number\n"
          ]
        }
      ]
    }
  ]
}