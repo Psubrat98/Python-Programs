{
  "nbformat": 4,
  "nbformat_minor": 0,
  "metadata": {
    "colab": {
      "provenance": [],
      "authorship_tag": "ABX9TyMgfhp9H7/39bIasmAymnoJ",
      "include_colab_link": true
    },
    "kernelspec": {
      "name": "python3",
      "display_name": "Python 3"
    },
    "language_info": {
      "name": "python"
    },
    "gpuClass": "standard"
  },
  "cells": [
    {
      "cell_type": "markdown",
      "metadata": {
        "id": "view-in-github",
        "colab_type": "text"
      },
      "source": [
        "<a href=\"https://colab.research.google.com/github/Psubrat98/Python-Programs/blob/main/DSA/Interview/Average_of_numbers.ipynb\" target=\"_parent\"><img src=\"https://colab.research.google.com/assets/colab-badge.svg\" alt=\"Open In Colab\"/></a>"
      ]
    },
    {
      "cell_type": "code",
      "source": [
        "size=int(input(\"Enter the number of elements you want in array: \"))\n",
        "arr=[]\n",
        "#taking input of the list\n",
        "for i in range(0,size):\n",
        "    elem=int(input(\"Please give value for index \"+str(i)+\": \"))\n",
        "    arr.append(elem)\n",
        "#taking average of the elements of the list\n",
        "avg=sum(arr)/size\n",
        "print(\"Average of the array elements is \",avg)"
      ],
      "metadata": {
        "colab": {
          "base_uri": "https://localhost:8080/"
        },
        "id": "DHGVhCoFZW7u",
        "outputId": "1632c4d1-21e5-4f23-c840-b37675c9e265"
      },
      "execution_count": 3,
      "outputs": [
        {
          "output_type": "stream",
          "name": "stdout",
          "text": [
            "Enter the number of elements you want in array: 10\n",
            "Please give value for index 0: 5\n",
            "Please give value for index 1: 8\n",
            "Please give value for index 2: 5\n",
            "Please give value for index 3: 4\n",
            "Please give value for index 4: 8\n",
            "Please give value for index 5: 7\n",
            "Please give value for index 6: 4\n",
            "Please give value for index 7: 1\n",
            "Please give value for index 8: 8\n",
            "Please give value for index 9: 5\n",
            "Average of the array elements is  5.5\n"
          ]
        }
      ]
    },
    {
      "cell_type": "code",
      "source": [
        "5"
      ],
      "metadata": {
        "id": "5lswS26MfqeZ"
      },
      "execution_count": null,
      "outputs": []
    }
  ]
}