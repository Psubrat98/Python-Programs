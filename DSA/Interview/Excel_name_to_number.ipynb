{
  "nbformat": 4,
  "nbformat_minor": 0,
  "metadata": {
    "colab": {
      "provenance": [],
      "authorship_tag": "ABX9TyO5lN+ybUN3V/MK8O7hzQrC",
      "include_colab_link": true
    },
    "kernelspec": {
      "name": "python3",
      "display_name": "Python 3"
    },
    "language_info": {
      "name": "python"
    },
    "gpuClass": "standard"
  },
  "cells": [
    {
      "cell_type": "markdown",
      "metadata": {
        "id": "view-in-github",
        "colab_type": "text"
      },
      "source": [
        "<a href=\"https://colab.research.google.com/github/Psubrat98/Python-Programs/blob/main/DSA/Interview/Excel_name_to_number.ipynb\" target=\"_parent\"><img src=\"https://colab.research.google.com/assets/colab-badge.svg\" alt=\"Open In Colab\"/></a>"
      ]
    },
    {
      "cell_type": "code",
      "source": [
        "def titleToNumber(s):\n",
        "    # This process is similar to binary-to-\n",
        "    # decimal conversion\n",
        "    result = 0\n",
        "    for B in range(len(s)):\n",
        "        result *= 26\n",
        "        result += ord(s[B]) - ord('A') + 1\n",
        " \n",
        "    return result\n",
        " \n",
        "# Driver function\n",
        "print(titleToNumber(\"Z\"))"
      ],
      "metadata": {
        "id": "LBlAnk60ZiNg",
        "colab": {
          "base_uri": "https://localhost:8080/"
        },
        "outputId": "cc097d7f-1b2b-40cc-b2a7-e87d834e5551"
      },
      "execution_count": 2,
      "outputs": [
        {
          "output_type": "stream",
          "name": "stdout",
          "text": [
            "26\n"
          ]
        }
      ]
    },
    {
      "cell_type": "code",
      "source": [],
      "metadata": {
        "id": "DHGVhCoFZW7u"
      },
      "execution_count": null,
      "outputs": []
    }
  ]
}