{
  "nbformat": 4,
  "nbformat_minor": 0,
  "metadata": {
    "colab": {
      "provenance": [],
      "authorship_tag": "ABX9TyMM//Qc1iDM04+T3oGOZIzE",
      "include_colab_link": true
    },
    "kernelspec": {
      "name": "python3",
      "display_name": "Python 3"
    },
    "language_info": {
      "name": "python"
    },
    "gpuClass": "standard"
  },
  "cells": [
    {
      "cell_type": "markdown",
      "metadata": {
        "id": "view-in-github",
        "colab_type": "text"
      },
      "source": [
        "<a href=\"https://colab.research.google.com/github/Psubrat98/Python-Programs/blob/main/DSA/Interview/Binary_number.ipynb\" target=\"_parent\"><img src=\"https://colab.research.google.com/assets/colab-badge.svg\" alt=\"Open In Colab\"/></a>"
      ]
    },
    {
      "cell_type": "code",
      "source": [
        "num = int(input())\n",
        "while num>0:\n",
        "  j = num%10\n",
        "  if j!=0 and j!=1:\n",
        "    print('num is not binary')\n",
        "  num //= 10\n",
        "  if num == 0:\n",
        "    print('num is binary')"
      ],
      "metadata": {
        "colab": {
          "base_uri": "https://localhost:8080/"
        },
        "id": "1vX2cyhv8Lwj",
        "outputId": "6e9d83d6-d828-4a47-edf8-dd76738ae5b4"
      },
      "execution_count": 7,
      "outputs": [
        {
          "output_type": "stream",
          "name": "stdout",
          "text": [
            "4541\n",
            "num is not binary\n",
            "num is not binary\n",
            "num is not binary\n",
            "num is binary\n"
          ]
        }
      ]
    },
    {
      "cell_type": "code",
      "source": [],
      "metadata": {
        "id": "LBlAnk60ZiNg"
      },
      "execution_count": null,
      "outputs": []
    }
  ]
}