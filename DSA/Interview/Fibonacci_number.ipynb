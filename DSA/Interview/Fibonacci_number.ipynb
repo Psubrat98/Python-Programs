{
  "nbformat": 4,
  "nbformat_minor": 0,
  "metadata": {
    "colab": {
      "provenance": [],
      "authorship_tag": "ABX9TyPxWGxJycSQxWcWirnqEzJH",
      "include_colab_link": true
    },
    "kernelspec": {
      "name": "python3",
      "display_name": "Python 3"
    },
    "language_info": {
      "name": "python"
    },
    "accelerator": "GPU",
    "gpuClass": "standard"
  },
  "cells": [
    {
      "cell_type": "markdown",
      "metadata": {
        "id": "view-in-github",
        "colab_type": "text"
      },
      "source": [
        "<a href=\"https://colab.research.google.com/github/Psubrat98/Python-Programs/blob/main/DSA/Interview/Fibonacci_number.ipynb\" target=\"_parent\"><img src=\"https://colab.research.google.com/assets/colab-badge.svg\" alt=\"Open In Colab\"/></a>"
      ]
    },
    {
      "cell_type": "markdown",
      "source": [
        "Itrative method:"
      ],
      "metadata": {
        "id": "k6QulKK-ynhE"
      }
    },
    {
      "cell_type": "code",
      "source": [
        "nNum = int(input())\n",
        "num1 = 0\n",
        "num2 = 1\n",
        "count = 0\n",
        "print('Fibonacci number are:')\n",
        "while count<nNum:\n",
        "  num = num1 + num2\n",
        "  num1 = num2\n",
        "  num2 = num\n",
        "  count += 1\n",
        "  print(num)"
      ],
      "metadata": {
        "colab": {
          "base_uri": "https://localhost:8080/"
        },
        "id": "tN-HTxu1nUr-",
        "outputId": "59e23d22-e9c7-4cff-e65b-aa71e6c3e358"
      },
      "execution_count": 17,
      "outputs": [
        {
          "output_type": "stream",
          "name": "stdout",
          "text": [
            "4\n",
            "Fibonacci number are:\n",
            "1\n",
            "2\n",
            "3\n",
            "5\n"
          ]
        }
      ]
    },
    {
      "cell_type": "markdown",
      "source": [
        "Recursive method:"
      ],
      "metadata": {
        "id": "K3JTtI6E0Rv_"
      }
    },
    {
      "cell_type": "code",
      "source": [
        "def rec_fibo(n):\n",
        "  if n<=1:\n",
        "    return n\n",
        "  else:\n",
        "    return rec_fibo(n-1)+rec_fibo(n-2)\n",
        "n = int(input())\n",
        "for i in range(n):\n",
        "  print(rec_fibo(i))"
      ],
      "metadata": {
        "colab": {
          "base_uri": "https://localhost:8080/"
        },
        "id": "9jWbhZvmzVs_",
        "outputId": "71476add-39b2-4212-fec2-8ea2de63daa0"
      },
      "execution_count": 18,
      "outputs": [
        {
          "output_type": "stream",
          "name": "stdout",
          "text": [
            "4\n",
            "0\n",
            "1\n",
            "1\n",
            "2\n"
          ]
        }
      ]
    },
    {
      "cell_type": "code",
      "source": [],
      "metadata": {
        "id": "hzO_4XIr1tq2"
      },
      "execution_count": null,
      "outputs": []
    }
  ]
}