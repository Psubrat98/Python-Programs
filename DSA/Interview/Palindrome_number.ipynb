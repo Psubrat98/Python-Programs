{
  "nbformat": 4,
  "nbformat_minor": 0,
  "metadata": {
    "colab": {
      "provenance": [],
      "authorship_tag": "ABX9TyMo5Pl5wA1LR4fOMV2f96Co",
      "include_colab_link": true
    },
    "kernelspec": {
      "name": "python3",
      "display_name": "Python 3"
    },
    "language_info": {
      "name": "python"
    },
    "gpuClass": "standard"
  },
  "cells": [
    {
      "cell_type": "markdown",
      "metadata": {
        "id": "view-in-github",
        "colab_type": "text"
      },
      "source": [
        "<a href=\"https://colab.research.google.com/github/Psubrat98/Python-Programs/blob/main/DSA/Interview/Palindrome_number.ipynb\" target=\"_parent\"><img src=\"https://colab.research.google.com/assets/colab-badge.svg\" alt=\"Open In Colab\"/></a>"
      ]
    },
    {
      "cell_type": "markdown",
      "source": [
        "For number:"
      ],
      "metadata": {
        "id": "rjtv8fng5Q-b"
      }
    },
    {
      "cell_type": "markdown",
      "source": [
        "For number:"
      ],
      "metadata": {
        "id": "nqOkQWO7vuAL"
      }
    },
    {
      "cell_type": "code",
      "source": [
        "num = int(input())\n",
        "rev, temp = 0, num\n",
        "while temp != 0:\n",
        "  rev = rev*10 + temp%10\n",
        "  temp //= 10\n",
        "if rev == num:\n",
        "  print('Number is palindrome')\n",
        "else:\n",
        "  print('Number is not palindrome')\n"
      ],
      "metadata": {
        "id": "0-D1DdPm2YLK",
        "colab": {
          "base_uri": "https://localhost:8080/"
        },
        "outputId": "467ee053-1a63-4094-997f-8d206895e2ad"
      },
      "execution_count": 3,
      "outputs": [
        {
          "output_type": "stream",
          "name": "stdout",
          "text": [
            "12345678987654321\n",
            "Number is palindrome\n"
          ]
        }
      ]
    },
    {
      "cell_type": "markdown",
      "source": [
        "For string:"
      ],
      "metadata": {
        "id": "CVIkor8hwo2u"
      }
    },
    {
      "cell_type": "code",
      "source": [
        "string = str(input())\n",
        "my_string = string.casefold()\n",
        "rev_string = reversed(my_string)\n",
        "if list(my_string) == list(rev_string):\n",
        "  print('String is palindrome')\n",
        "else:\n",
        "  print('String is not palindrome')"
      ],
      "metadata": {
        "colab": {
          "base_uri": "https://localhost:8080/"
        },
        "id": "wcjSuTGZwVF9",
        "outputId": "7d28eafa-2318-4de1-8acf-5d404ebe188b"
      },
      "execution_count": 9,
      "outputs": [
        {
          "output_type": "stream",
          "name": "stdout",
          "text": [
            "Mom\n",
            "String is palindrome\n"
          ]
        }
      ]
    },
    {
      "cell_type": "markdown",
      "source": [
        "Using Recursive function:"
      ],
      "metadata": {
        "id": "Fo3UOrWGy0wq"
      }
    },
    {
      "cell_type": "code",
      "source": [
        "n = int(input())\n",
        "def reverse(num):\n",
        "  reverse = 0\n",
        "  if n<10:\n",
        "    return num\n",
        "  else:\n",
        "    rev_num = 0\n",
        "    while (num > 0):\n",
        "        rev_num = rev_num * 10 + num % 10\n",
        "        num = num//10\n",
        "    return rev_num\n",
        "def is_palindrome(num):\n",
        "  if num == reverse(num):\n",
        "    return 1\n",
        "  return 0\n",
        "if is_palindrome(n) == 1:\n",
        "  print('Number is palindrome')\n",
        "else:\n",
        "  print('Number is not palindrome')\n"
      ],
      "metadata": {
        "colab": {
          "base_uri": "https://localhost:8080/"
        },
        "id": "FJbANRIRxdQ-",
        "outputId": "33355017-c14e-4530-8b61-40db28588e86"
      },
      "execution_count": 17,
      "outputs": [
        {
          "output_type": "stream",
          "name": "stdout",
          "text": [
            "121\n",
            "Number is palindrome\n"
          ]
        }
      ]
    },
    {
      "cell_type": "code",
      "source": [],
      "metadata": {
        "id": "TfHEBPIH0S7r"
      },
      "execution_count": null,
      "outputs": []
    }
  ]
}