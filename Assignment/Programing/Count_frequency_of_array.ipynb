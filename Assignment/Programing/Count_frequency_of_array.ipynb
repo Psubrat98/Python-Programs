{
  "nbformat": 4,
  "nbformat_minor": 0,
  "metadata": {
    "colab": {
      "provenance": [],
      "authorship_tag": "ABX9TyOqtC6WtJCqthof+vwXWeJ3",
      "include_colab_link": true
    },
    "kernelspec": {
      "name": "python3",
      "display_name": "Python 3"
    },
    "language_info": {
      "name": "python"
    }
  },
  "cells": [
    {
      "cell_type": "markdown",
      "metadata": {
        "id": "view-in-github",
        "colab_type": "text"
      },
      "source": [
        "<a href=\"https://colab.research.google.com/github/Psubrat98/Python-Programs/blob/main/Assignment/Programing/Count_frequency_of_array.ipynb\" target=\"_parent\"><img src=\"https://colab.research.google.com/assets/colab-badge.svg\" alt=\"Open In Colab\"/></a>"
      ]
    },
    {
      "cell_type": "markdown",
      "source": [
        "**Problem:** write a program to find the frequency of each element of an array.\n"
      ],
      "metadata": {
        "id": "L6FCQs3T9KfW"
      }
    },
    {
      "cell_type": "code",
      "execution_count": 1,
      "metadata": {
        "colab": {
          "base_uri": "https://localhost:8080/"
        },
        "id": "B7NqQYvY_pu1",
        "outputId": "6b508c5a-da2b-4d3c-a2ad-20452577b178"
      },
      "outputs": [
        {
          "output_type": "stream",
          "name": "stdout",
          "text": [
            "Enter the elements limit for array : 5\n",
            "Enter elements in array: \n",
            "4\n",
            "5\n",
            "6\n",
            "4\n",
            "5\n",
            "4 occour 2 times\n",
            "5 occour 2 times\n",
            "6 occour 1 times\n"
          ]
        }
      ],
      "source": [
        "# Input size of array\n",
        "n = int(input('Enter the elements limit for array : '))\n",
        "array = []\n",
        "\n",
        "#input element of array\n",
        "print('Enter elements in array: ')\n",
        "for i in range(n):\n",
        "  element = int(input())\n",
        "  array.append(element)\n",
        "\n",
        "#Create an array freq to store frequencies of element\n",
        "freq = [None] * n  \n",
        "visited = -1  \n",
        "\n",
        "# Create a for loop to iterate array elements\n",
        "for i in range(0, n):  \n",
        "    count = 1 \n",
        "\n",
        "    # Create another for loop inside for loop \n",
        "    for j in range(i+1, n):  \n",
        "        if(array[i] == array[j]):  \n",
        "            count += 1 \n",
        "\n",
        "            #To avoid counting same element again \n",
        "            freq[j] = visited  \n",
        "              \n",
        "    if(freq[i] != visited):  \n",
        "        freq[i] = count  \n",
        "   \n",
        "#Displays the frequency of each element present in array   \n",
        "for i in range(0, len(freq)):  \n",
        "    if(freq[i] != visited):  \n",
        "        print(f'{array[i]} occour {freq[i]} times')  "
      ]
    },
    {
      "cell_type": "code",
      "source": [],
      "metadata": {
        "id": "TOuv1Ob4_FPZ"
      },
      "execution_count": null,
      "outputs": []
    }
  ]
}