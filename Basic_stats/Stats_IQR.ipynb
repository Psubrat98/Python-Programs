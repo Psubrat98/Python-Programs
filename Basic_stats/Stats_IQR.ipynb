{
  "nbformat": 4,
  "nbformat_minor": 0,
  "metadata": {
    "colab": {
      "provenance": [],
      "authorship_tag": "ABX9TyMP3flSNr9A1ShcRpxlDALv",
      "include_colab_link": true
    },
    "kernelspec": {
      "name": "python3",
      "display_name": "Python 3"
    },
    "language_info": {
      "name": "python"
    }
  },
  "cells": [
    {
      "cell_type": "markdown",
      "metadata": {
        "id": "view-in-github",
        "colab_type": "text"
      },
      "source": [
        "<a href=\"https://colab.research.google.com/github/Psubrat98/Python-Programs/blob/main/Basic_stats/Stats_IQR.ipynb\" target=\"_parent\"><img src=\"https://colab.research.google.com/assets/colab-badge.svg\" alt=\"Open In Colab\"/></a>"
      ]
    },
    {
      "cell_type": "code",
      "execution_count": 18,
      "metadata": {
        "id": "kzEC302IWNbu"
      },
      "outputs": [],
      "source": [
        " import numpy as np\n",
        " import matplotlib.pyplot as plt\n",
        " %matplotlib inline"
      ]
    },
    {
      "cell_type": "code",
      "source": [
        "df = [21,12,11,14,15,14,28,30,50,15,4,25,100,115,18,19,25,31,35,36,32,23,28,39]"
      ],
      "metadata": {
        "id": "WHR4eGj6ZA9k"
      },
      "execution_count": 19,
      "outputs": []
    },
    {
      "cell_type": "code",
      "source": [
        "plt.hist(df)"
      ],
      "metadata": {
        "colab": {
          "base_uri": "https://localhost:8080/",
          "height": 334
        },
        "id": "jckKfSJKbJqm",
        "outputId": "ac706ed5-ca06-4f6c-ced2-abd81495a9af"
      },
      "execution_count": 20,
      "outputs": [
        {
          "output_type": "execute_result",
          "data": {
            "text/plain": [
              "(array([7., 6., 7., 1., 1., 0., 0., 0., 1., 1.]),\n",
              " array([  4. ,  15.1,  26.2,  37.3,  48.4,  59.5,  70.6,  81.7,  92.8,\n",
              "        103.9, 115. ]),\n",
              " <a list of 10 Patch objects>)"
            ]
          },
          "metadata": {},
          "execution_count": 20
        },
        {
          "output_type": "display_data",
          "data": {
            "text/plain": [
              "<Figure size 432x288 with 1 Axes>"
            ],
            "image/png": "[encoded data removed]"
          },
          "metadata": {
            "needs_background": "light"
          }
        }
      ]
    },
    {
      "cell_type": "markdown",
      "source": [
        "z_sore"
      ],
      "metadata": {
        "id": "SlrxChB6cBwo"
      }
    },
    {
      "cell_type": "code",
      "source": [
        "outliers=[]\n",
        "def detect_outlier(data):\n",
        "  threshold = 3 #3rd std deviation\n",
        "  mean = np.mean(data)\n",
        "  std = np.std(data)\n",
        "  for i in data:\n",
        "    z_score = (i-mean)/std\n",
        "    if np.abs(z_score)>threshold:\n",
        "      outliers.append(i)\n",
        "  return outliers\n"
      ],
      "metadata": {
        "id": "2OzHgEUcZiDC"
      },
      "execution_count": 21,
      "outputs": []
    },
    {
      "cell_type": "code",
      "source": [
        "detect_outlier(df)"
      ],
      "metadata": {
        "colab": {
          "base_uri": "https://localhost:8080/"
        },
        "id": "Km1HV2YtbGNU",
        "outputId": "6d5a73a2-e45d-4904-90d6-dad46478c67a"
      },
      "execution_count": 22,
      "outputs": [
        {
          "output_type": "execute_result",
          "data": {
            "text/plain": [
              "[115]"
            ]
          },
          "metadata": {},
          "execution_count": 22
        }
      ]
    },
    {
      "cell_type": "markdown",
      "source": [
        "**IQR**\n",
        "1. sort the data\n",
        "2. calculate Q1 &Q3\n",
        "3. IQR(Q3-Q1)\n",
        "4. find the lower fence(Q1-1.5(IQR))\n",
        "5. find the upper fence(Q3+1.5(IQR))"
      ],
      "metadata": {
        "id": "7_46NnpicEIE"
      }
    },
    {
      "cell_type": "code",
      "source": [
        "df = sorted(df)\n",
        "df"
      ],
      "metadata": {
        "colab": {
          "base_uri": "https://localhost:8080/"
        },
        "id": "HyCaXmCLbjlI",
        "outputId": "5e167fd0-af5c-482e-fc1c-4f514b3f75cb"
      },
      "execution_count": 23,
      "outputs": [
        {
          "output_type": "execute_result",
          "data": {
            "text/plain": [
              "[4,\n",
              " 11,\n",
              " 12,\n",
              " 14,\n",
              " 14,\n",
              " 15,\n",
              " 15,\n",
              " 18,\n",
              " 19,\n",
              " 21,\n",
              " 23,\n",
              " 25,\n",
              " 25,\n",
              " 28,\n",
              " 28,\n",
              " 30,\n",
              " 31,\n",
              " 32,\n",
              " 35,\n",
              " 36,\n",
              " 39,\n",
              " 50,\n",
              " 100,\n",
              " 115]"
            ]
          },
          "metadata": {},
          "execution_count": 23
        }
      ]
    },
    {
      "cell_type": "code",
      "source": [
        "Q1, Q3 = np.percentile(df,[25,75])"
      ],
      "metadata": {
        "id": "Yy6j98mRdFhB"
      },
      "execution_count": 24,
      "outputs": []
    },
    {
      "cell_type": "code",
      "source": [
        "print(Q1, Q3)"
      ],
      "metadata": {
        "colab": {
          "base_uri": "https://localhost:8080/"
        },
        "id": "Qhcmo5hrdP1n",
        "outputId": "e60c972e-daa7-4b15-cf0a-fb673d28b482"
      },
      "execution_count": 25,
      "outputs": [
        {
          "output_type": "stream",
          "name": "stdout",
          "text": [
            "15.0 32.75\n"
          ]
        }
      ]
    },
    {
      "cell_type": "markdown",
      "source": [
        "IQR"
      ],
      "metadata": {
        "id": "yiAq0GACdnhK"
      }
    },
    {
      "cell_type": "code",
      "source": [
        "IQR = Q3-Q1\n",
        "print(IQR)"
      ],
      "metadata": {
        "colab": {
          "base_uri": "https://localhost:8080/"
        },
        "id": "O5S_QUWSdl7G",
        "outputId": "3b4443f8-0427-41d2-9bfe-1569f8eea53f"
      },
      "execution_count": 26,
      "outputs": [
        {
          "output_type": "stream",
          "name": "stdout",
          "text": [
            "17.75\n"
          ]
        }
      ]
    },
    {
      "cell_type": "markdown",
      "source": [
        "Find lower fence and higher fence"
      ],
      "metadata": {
        "id": "hZ42n7X7dWDg"
      }
    },
    {
      "cell_type": "code",
      "source": [
        "l_f = Q1-(1.50*IQR)\n",
        "h_f = Q3+(1.50*IQR)"
      ],
      "metadata": {
        "id": "g6gFSYi1dTsi"
      },
      "execution_count": 27,
      "outputs": []
    },
    {
      "cell_type": "code",
      "source": [
        "print(l_f, h_f)"
      ],
      "metadata": {
        "colab": {
          "base_uri": "https://localhost:8080/"
        },
        "id": "YeYJj8AqeRZ_",
        "outputId": "c7880c93-c505-4e20-86b7-61b28c1e9df2"
      },
      "execution_count": 28,
      "outputs": [
        {
          "output_type": "stream",
          "name": "stdout",
          "text": [
            "-11.625 59.375\n"
          ]
        }
      ]
    },
    {
      "cell_type": "code",
      "source": [
        "import seaborn as sns"
      ],
      "metadata": {
        "id": "E15Ic-fneWGh"
      },
      "execution_count": 29,
      "outputs": []
    },
    {
      "cell_type": "code",
      "source": [
        "sns.boxplot(df)"
      ],
      "metadata": {
        "colab": {
          "base_uri": "https://localhost:8080/",
          "height": 337
        },
        "id": "_ZKlZNpyfVrI",
        "outputId": "5979887f-9a71-4a1d-81fb-83799cadc171"
      },
      "execution_count": 30,
      "outputs": [
        {
          "output_type": "stream",
          "name": "stderr",
          "text": [
            "/usr/local/lib/python3.8/dist-packages/seaborn/_decorators.py:36: FutureWarning: Pass the following variable as a keyword arg: x. From version 0.12, the only valid positional argument will be `data`, and passing other arguments without an explicit keyword will result in an error or misinterpretation.\n",
            "  warnings.warn(\n"
          ]
        },
        {
          "output_type": "execute_result",
          "data": {
            "text/plain": [
              "<matplotlib.axes._subplots.AxesSubplot at 0x7f729b8cd580>"
            ]
          },
          "metadata": {},
          "execution_count": 30
        },
        {
          "output_type": "display_data",
          "data": {
            "text/plain": [
              "<Figure size 432x288 with 1 Axes>"
            ],
            "image/png": "[encoded data removed]"
          },
          "metadata": {
            "needs_background": "light"
          }
        }
      ]
    },
    {
      "cell_type": "code",
      "source": [],
      "metadata": {
        "id": "WacsX_Rnfdg_"
      },
      "execution_count": null,
      "outputs": []
    }
  ]
}