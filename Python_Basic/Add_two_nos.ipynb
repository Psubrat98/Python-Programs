{
  "nbformat": 4,
  "nbformat_minor": 0,
  "metadata": {
    "colab": {
      "provenance": [],
      "authorship_tag": "ABX9TyM0EH9DWI43vcOGqB/6KtN3",
      "include_colab_link": true
    },
    "kernelspec": {
      "name": "python3",
      "display_name": "Python 3"
    },
    "language_info": {
      "name": "python"
    }
  },
  "cells": [
    {
      "cell_type": "markdown",
      "metadata": {
        "id": "view-in-github",
        "colab_type": "text"
      },
      "source": [
        "<a href=\"https://colab.research.google.com/github/Psubrat98/Python-Programs/blob/main/Python_Basic/Add_two_nos.ipynb\" target=\"_parent\"><img src=\"https://colab.research.google.com/assets/colab-badge.svg\" alt=\"Open In Colab\"/></a>"
      ]
    },
    {
      "cell_type": "markdown",
      "source": [
        "Python Program for add two number..."
      ],
      "metadata": {
        "id": "gkIG4ZjDSHm-"
      }
    },
    {
      "cell_type": "code",
      "execution_count": 1,
      "metadata": {
        "colab": {
          "base_uri": "https://localhost:8080/"
        },
        "id": "rGBDCNbxR22U",
        "outputId": "1ecf0fe3-9a0f-4e2b-90d5-ae38a422dadf"
      },
      "outputs": [
        {
          "output_type": "stream",
          "name": "stdout",
          "text": [
            "Sum of 12 and 5 is 17\n"
          ]
        }
      ],
      "source": [
        "#Case-1\n",
        "\n",
        "num1 = 12\n",
        "num2 = 5\n",
        "\n",
        "#Adding two nos:\n",
        "sum = num1+num2\n",
        "\n",
        "#Printing values\n",
        "print('Sum of {0} and {1} is {2}'.format(num1, num2, sum))\n"
      ]
    },
    {
      "cell_type": "code",
      "source": [
        "#case-2\n",
        "\n",
        "n1 = input('Enter no 1:')\n",
        "n2 = input('Enter no 2:')\n",
        "\n",
        "#Adding two nos:\n",
        "sum = float(n1)+float(n2)\n",
        "\n",
        "#printing values\n",
        "print('Sum of {0} and {1} is {2}'.format(n1, n2, sum))"
      ],
      "metadata": {
        "colab": {
          "base_uri": "https://localhost:8080/"
        },
        "id": "_TKqJyC6TIpz",
        "outputId": "e2f88eff-23d5-4f47-f268-da3d68e04c98"
      },
      "execution_count": 2,
      "outputs": [
        {
          "output_type": "stream",
          "name": "stdout",
          "text": [
            "Enter no 1:12\n",
            "Enter no 2:5\n",
            "Sum of 12 and 5 is 17.0\n"
          ]
        }
      ]
    },
    {
      "cell_type": "code",
      "source": [
        "#Case-3\n",
        "\n",
        "if __name__ == '__main__':\n",
        "  no1 = 15\n",
        "  no2 = 12\n",
        "  #Adding nos:\n",
        "  sum = lambda no1, no2 : no1+no2\n",
        "\n",
        "  #printing Values\n",
        "  print('Sum of {0} and {1} is {2}'.format(no1, no2, sum(no1, no2)))\n"
      ],
      "metadata": {
        "colab": {
          "base_uri": "https://localhost:8080/"
        },
        "id": "s4xMCmsEUHfW",
        "outputId": "4962d1b2-a4bb-47bb-8f0c-b907f0d1d028"
      },
      "execution_count": 4,
      "outputs": [
        {
          "output_type": "stream",
          "name": "stdout",
          "text": [
            "Sum of 15 and 12 is 27\n"
          ]
        }
      ]
    }
  ]
}