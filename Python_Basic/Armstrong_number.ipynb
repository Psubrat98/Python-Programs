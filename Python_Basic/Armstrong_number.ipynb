{
  "nbformat": 4,
  "nbformat_minor": 0,
  "metadata": {
    "colab": {
      "provenance": [],
      "authorship_tag": "ABX9TyOW0J+hi+KTArcnR2bk+FvH",
      "include_colab_link": true
    },
    "kernelspec": {
      "name": "python3",
      "display_name": "Python 3"
    },
    "language_info": {
      "name": "python"
    }
  },
  "cells": [
    {
      "cell_type": "markdown",
      "metadata": {
        "id": "view-in-github",
        "colab_type": "text"
      },
      "source": [
        "<a href=\"https://colab.research.google.com/github/Psubrat98/Python-Programs/blob/main/Python_Basic/Armstrong_number.ipynb\" target=\"_parent\"><img src=\"https://colab.research.google.com/assets/colab-badge.svg\" alt=\"Open In Colab\"/></a>"
      ]
    },
    {
      "cell_type": "markdown",
      "source": [
        "Checking Armstrong number:"
      ],
      "metadata": {
        "id": "35PkypYtTV9y"
      }
    },
    {
      "cell_type": "code",
      "execution_count": 2,
      "metadata": {
        "colab": {
          "base_uri": "https://localhost:8080/"
        },
        "id": "HGvV9dsKTAMP",
        "outputId": "49b9bb1d-24a1-4861-d9a7-78d1f4159124"
      },
      "outputs": [
        {
          "output_type": "stream",
          "name": "stdout",
          "text": [
            "False\n",
            "True\n"
          ]
        }
      ],
      "source": [
        "#creating a function\n",
        "def power(x, y):\n",
        "  if y == 0:\n",
        "    return 1\n",
        "  elif y % 2 == 0:\n",
        "    return (power(x, y//2))**2\n",
        "  return x * (power(x, y//2))**2\n",
        "\n",
        "def order(x):\n",
        "  n = 0\n",
        "  while (x != 0):\n",
        "    n = n + 1\n",
        "    x = x // 10\n",
        "  return n\n",
        "\n",
        "def isArmstrong(x):\n",
        "  n = order(x)\n",
        "  temp = x\n",
        "  sum = 0\n",
        "\n",
        "  while (temp != 0):\n",
        "    r = temp % 10\n",
        "    sum = sum + power(r, n)\n",
        "    temp = temp // 10\n",
        "  return (sum == x)\n",
        "\n",
        "#Code Check\n",
        "no = 1256\n",
        "print(isArmstrong(no))\n",
        "\n",
        "no = 153\n",
        "print(isArmstrong(no))"
      ]
    }
  ]
}