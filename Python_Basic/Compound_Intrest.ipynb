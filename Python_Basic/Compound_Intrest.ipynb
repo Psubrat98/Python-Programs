{
  "nbformat": 4,
  "nbformat_minor": 0,
  "metadata": {
    "colab": {
      "provenance": [],
      "authorship_tag": "ABX9TyPDD48byb95cuTpNCoxUkMU",
      "include_colab_link": true
    },
    "kernelspec": {
      "name": "python3",
      "display_name": "Python 3"
    },
    "language_info": {
      "name": "python"
    }
  },
  "cells": [
    {
      "cell_type": "markdown",
      "metadata": {
        "id": "view-in-github",
        "colab_type": "text"
      },
      "source": [
        "<a href=\"https://colab.research.google.com/github/Psubrat98/Python-Programs/blob/main/Python_Basic/Compound_Intrest.ipynb\" target=\"_parent\"><img src=\"https://colab.research.google.com/assets/colab-badge.svg\" alt=\"Open In Colab\"/></a>"
      ]
    },
    {
      "cell_type": "code",
      "source": [
        "Case-1"
      ],
      "metadata": {
        "id": "tWQuTJxAQrTq"
      },
      "execution_count": null,
      "outputs": []
    },
    {
      "cell_type": "markdown",
      "source": [],
      "metadata": {
        "id": "oRMwPbfyQqxT"
      }
    },
    {
      "cell_type": "code",
      "execution_count": 2,
      "metadata": {
        "colab": {
          "base_uri": "https://localhost:8080/"
        },
        "id": "gsuLEdFzPwC4",
        "outputId": "68509dfe-30f6-4aa7-c068-decc327a45fd"
      },
      "outputs": [
        {
          "output_type": "stream",
          "name": "stdout",
          "text": [
            "The compound intrest is:62.889462677744206\n"
          ]
        }
      ],
      "source": [
        "#Calculating Compound Intrest:\n",
        "#Createing a function\n",
        "def compound_intrest(p, r, t):\n",
        "  # p = principal\n",
        "  # r = rate of intrest\n",
        "  # t = time\n",
        "\n",
        "  amount = p * (pow((1 + r/100), t))\n",
        "  ci = amount - p\n",
        "  return print(f'The compound intrest is:{ci}')\n",
        "\n",
        "compound_intrest(100, 5, 10)"
      ]
    }
  ]
}