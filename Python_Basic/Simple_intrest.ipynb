{
  "nbformat": 4,
  "nbformat_minor": 0,
  "metadata": {
    "colab": {
      "provenance": [],
      "authorship_tag": "ABX9TyNX+NOI0pUP/QrkCUKsJl6g",
      "include_colab_link": true
    },
    "kernelspec": {
      "name": "python3",
      "display_name": "Python 3"
    },
    "language_info": {
      "name": "python"
    }
  },
  "cells": [
    {
      "cell_type": "markdown",
      "metadata": {
        "id": "view-in-github",
        "colab_type": "text"
      },
      "source": [
        "<a href=\"https://colab.research.google.com/github/Psubrat98/Python-Programs/blob/main/Python_Basic/Simple_intrest.ipynb\" target=\"_parent\"><img src=\"https://colab.research.google.com/assets/colab-badge.svg\" alt=\"Open In Colab\"/></a>"
      ]
    },
    {
      "cell_type": "code",
      "execution_count": 4,
      "metadata": {
        "colab": {
          "base_uri": "https://localhost:8080/"
        },
        "id": "cZqyRfirNAYV",
        "outputId": "67078f8c-bcc6-4d22-b45f-1aad4fac063c"
      },
      "outputs": [
        {
          "output_type": "stream",
          "name": "stdout",
          "text": [
            "Simple intrest of Principal value is:50.0\n"
          ]
        }
      ],
      "source": [
        "# Calculate Simple Intrest:\n",
        "#Creating a function\n",
        "\n",
        "def simple_intrest(p, r, t):# p = principal, r = rate of intrest, t = time\n",
        "\n",
        "  si = (p * t  * r)/100\n",
        "\n",
        "  return print(f'Simple intrest of Principal value is:{si}')\n",
        "\n",
        "simple_intrest(100, 5, 10)"
      ]
    }
  ]
}