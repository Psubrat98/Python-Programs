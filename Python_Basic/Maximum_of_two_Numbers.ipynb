{
  "nbformat": 4,
  "nbformat_minor": 0,
  "metadata": {
    "colab": {
      "provenance": [],
      "authorship_tag": "ABX9TyPEwEdDoX1AHAHWmmWknA1H",
      "include_colab_link": true
    },
    "kernelspec": {
      "name": "python3",
      "display_name": "Python 3"
    },
    "language_info": {
      "name": "python"
    }
  },
  "cells": [
    {
      "cell_type": "markdown",
      "metadata": {
        "id": "view-in-github",
        "colab_type": "text"
      },
      "source": [
        "<a href=\"https://colab.research.google.com/github/Psubrat98/Python-Programs/blob/main/Python_Basic/Maximum_of_two_Numbers.ipynb\" target=\"_parent\"><img src=\"https://colab.research.google.com/assets/colab-badge.svg\" alt=\"Open In Colab\"/></a>"
      ]
    },
    {
      "cell_type": "markdown",
      "source": [
        "Maximum of two Numbers..."
      ],
      "metadata": {
        "id": "TbMGcxq0X6MC"
      }
    },
    {
      "cell_type": "code",
      "execution_count": 3,
      "metadata": {
        "colab": {
          "base_uri": "https://localhost:8080/"
        },
        "id": "hu7U-AxFWoNr",
        "outputId": "c6fd55f1-c684-4026-d641-580dccb0efd3"
      },
      "outputs": [
        {
          "output_type": "stream",
          "name": "stdout",
          "text": [
            "Maximum of two nos is:4\n"
          ]
        }
      ],
      "source": [
        "#Creating a function:\n",
        "def maximum(a, b):\n",
        "  if a >= b:\n",
        "    return a\n",
        "  else:\n",
        "    return b\n",
        "a = 2\n",
        "b = 4\n",
        "print(f'Maximum of two nos is:{maximum(a, b)}')"
      ]
    },
    {
      "cell_type": "code",
      "source": [
        "#Finding Max no with python inbuilt function:\n",
        "a = 5\n",
        "b = 2\n",
        "\n",
        "maximum = max(a, b)\n",
        "print(f'Maximum of two nos is:{maximum}')\n"
      ],
      "metadata": {
        "colab": {
          "base_uri": "https://localhost:8080/"
        },
        "id": "o9B-JdnBZFip",
        "outputId": "ee78fdd8-660c-4119-e50d-bcfdd9520699"
      },
      "execution_count": 4,
      "outputs": [
        {
          "output_type": "stream",
          "name": "stdout",
          "text": [
            "Maximum of two nos is:5\n"
          ]
        }
      ]
    },
    {
      "cell_type": "code",
      "source": [
        "#Finding Max no with if condition:\n",
        "\n",
        "a = 6\n",
        "b = 5\n",
        "if a >= b:\n",
        "  print(f'Maximum of two nos is:{a}')\n",
        "else:\n",
        "  print(f'Maximum of two nos is:{b}')"
      ],
      "metadata": {
        "colab": {
          "base_uri": "https://localhost:8080/"
        },
        "id": "hSoUPI17ZxcR",
        "outputId": "669baad3-22eb-48db-f408-85f3a3d89c21"
      },
      "execution_count": 5,
      "outputs": [
        {
          "output_type": "stream",
          "name": "stdout",
          "text": [
            "Maximum of two nos is:6\n"
          ]
        }
      ]
    },
    {
      "cell_type": "code",
      "source": [],
      "metadata": {
        "id": "DvbGjtG7aSIK"
      },
      "execution_count": null,
      "outputs": []
    }
  ]
}