{
  "nbformat": 4,
  "nbformat_minor": 0,
  "metadata": {
    "colab": {
      "provenance": [],
      "authorship_tag": "ABX9TyN70eVwTCZxixtbZd3pvn8w",
      "include_colab_link": true
    },
    "kernelspec": {
      "name": "python3",
      "display_name": "Python 3"
    },
    "language_info": {
      "name": "python"
    }
  },
  "cells": [
    {
      "cell_type": "markdown",
      "metadata": {
        "id": "view-in-github",
        "colab_type": "text"
      },
      "source": [
        "<a href=\"https://colab.research.google.com/github/Psubrat98/Python-Programs/blob/main/Python_Basic/Area_of_circle.ipynb\" target=\"_parent\"><img src=\"https://colab.research.google.com/assets/colab-badge.svg\" alt=\"Open In Colab\"/></a>"
      ]
    },
    {
      "cell_type": "code",
      "execution_count": 1,
      "metadata": {
        "colab": {
          "base_uri": "https://localhost:8080/"
        },
        "id": "Esba9zUvXow-",
        "outputId": "a23aabdb-d53f-41c9-c55f-178cb29f60d3"
      },
      "outputs": [
        {
          "output_type": "stream",
          "name": "stdout",
          "text": [
            "Area of circle is: 201.02\n"
          ]
        }
      ],
      "source": [
        "#creating a function\n",
        "def area_circle(r):\n",
        "  #r = radius of circle\n",
        "  pi = 3.141\n",
        "  A = pi * (r**2)\n",
        "  return A\n",
        "\n",
        "#checking code\n",
        "print(f'Area of circle is:{area_circle(8) : .2f}')"
      ]
    }
  ]
}