{
  "nbformat": 4,
  "nbformat_minor": 0,
  "metadata": {
    "colab": {
      "provenance": [],
      "authorship_tag": "ABX9TyNPOMbvkJTBGnAgfAqqDR6M",
      "include_colab_link": true
    },
    "kernelspec": {
      "name": "python3",
      "display_name": "Python 3"
    },
    "language_info": {
      "name": "python"
    }
  },
  "cells": [
    {
      "cell_type": "markdown",
      "metadata": {
        "id": "view-in-github",
        "colab_type": "text"
      },
      "source": [
        "<a href=\"https://colab.research.google.com/github/Psubrat98/Python-Programs/blob/main/Python_Basic/Factorial_of_number.ipynb\" target=\"_parent\"><img src=\"https://colab.research.google.com/assets/colab-badge.svg\" alt=\"Open In Colab\"/></a>"
      ]
    },
    {
      "cell_type": "markdown",
      "source": [
        "Recursive approach:"
      ],
      "metadata": {
        "id": "O7cq1OlBb2Hn"
      }
    },
    {
      "cell_type": "code",
      "execution_count": 3,
      "metadata": {
        "colab": {
          "base_uri": "https://localhost:8080/"
        },
        "id": "Lr7_E0smaxiC",
        "outputId": "8c6c5aca-afd7-4600-a639-6adb3ad28493"
      },
      "outputs": [
        {
          "output_type": "stream",
          "name": "stdout",
          "text": [
            "Factorial of num is:720\n"
          ]
        }
      ],
      "source": [
        "#factorial of a given no:\n",
        "#Creating a function\n",
        "def factorial(n):\n",
        "  if (n==1 or n==0):\n",
        "    return 1\n",
        "  else:\n",
        "    return n * factorial(n-1)\n",
        "\n",
        "  '''single line to find factorial\n",
        "  return 1 if (n==1 or n==0) else n * factorial(n - 1);'''\n",
        "\n",
        "#Driver Code\n",
        "num = 6\n",
        "print(f'Factorial of num is:{factorial(num)}')"
      ]
    },
    {
      "cell_type": "markdown",
      "source": [
        "Itretive approach:\n",
        "Case-1"
      ],
      "metadata": {
        "id": "NwXnZbmod0zs"
      }
    },
    {
      "cell_type": "code",
      "source": [
        "#factorial of a given no:\n",
        "#Creating a function\n",
        "def factorial(n):\n",
        "  if n < 0:\n",
        "    return 0\n",
        "  elif n == 1 or n == 0:\n",
        "    return 1\n",
        "  else:\n",
        "    fact = 1\n",
        "    while(n>1):\n",
        "      fact *= n\n",
        "      n -= 1\n",
        "    return fact\n",
        "\n",
        "#Driver Code\n",
        "no = 5\n",
        "print(f'Factorial of num is:{factorial(no)}')"
      ],
      "metadata": {
        "colab": {
          "base_uri": "https://localhost:8080/"
        },
        "id": "LcoOcEGKdVqd",
        "outputId": "4d58af57-369a-45fc-b036-145b296231db"
      },
      "execution_count": 4,
      "outputs": [
        {
          "output_type": "stream",
          "name": "stdout",
          "text": [
            "Factorial of num is:120\n"
          ]
        }
      ]
    },
    {
      "cell_type": "markdown",
      "source": [
        "Case-2"
      ],
      "metadata": {
        "id": "i0J9sQ2ifFiL"
      }
    },
    {
      "cell_type": "code",
      "source": [
        "#factorial of a given no:\n",
        "#Creating a function\n",
        "def factorial(n):\n",
        "  res = 1\n",
        "  for i in range (2, n+1):\n",
        "    res *= i\n",
        "  return res\n",
        "\n",
        "#Driver Code\n",
        "no = 5\n",
        "print(f'Factorial of num is:{factorial(no)}')\n",
        "\n"
      ],
      "metadata": {
        "colab": {
          "base_uri": "https://localhost:8080/"
        },
        "id": "gMSAEN0PfDQK",
        "outputId": "f72fe2be-f861-4444-b80b-0d0b61fa0f03"
      },
      "execution_count": 5,
      "outputs": [
        {
          "output_type": "stream",
          "name": "stdout",
          "text": [
            "Factorial of num is:120\n"
          ]
        }
      ]
    },
    {
      "cell_type": "code",
      "source": [],
      "metadata": {
        "id": "flIFYrT_fsne"
      },
      "execution_count": null,
      "outputs": []
    }
  ]
}