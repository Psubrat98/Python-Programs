{
  "nbformat": 4,
  "nbformat_minor": 0,
  "metadata": {
    "colab": {
      "provenance": [],
      "authorship_tag": "ABX9TyPp2VDjNoMM1vW0eyD2wwIK",
      "include_colab_link": true
    },
    "kernelspec": {
      "name": "python3",
      "display_name": "Python 3"
    },
    "language_info": {
      "name": "python"
    }
  },
  "cells": [
    {
      "cell_type": "markdown",
      "metadata": {
        "id": "view-in-github",
        "colab_type": "text"
      },
      "source": [
        "<a href=\"https://colab.research.google.com/github/Psubrat98/Python-Programs/blob/main/Leet%20Code/Find_three_sum_of_a_given_list.ipynb\" target=\"_parent\"><img src=\"https://colab.research.google.com/assets/colab-badge.svg\" alt=\"Open In Colab\"/></a>"
      ]
    },
    {
      "cell_type": "code",
      "execution_count": null,
      "metadata": {
        "id": "zBU0WXz4AXeF"
      },
      "outputs": [],
      "source": [
        "class Solution(object):\n",
        "    def threeSum(self, nums):\n",
        "        nums.sort()\n",
        "        result = []\n",
        "\n",
        "        for i in range(len(nums)-2):\n",
        "            if i > 0 and nums[i] == nums[i-1]:\n",
        "                continue\n",
        "            j = i+1\n",
        "            k = len(nums)-1\n",
        "            while (j<k):\n",
        "                sum = nums[i] + nums[j] + nums[k]\n",
        "                if sum<0:\n",
        "                    j += 1\n",
        "                elif sum>0:\n",
        "                    k -= 1\n",
        "                else:\n",
        "                    result.append([nums[i], nums[j], nums[k]])\n",
        "                    while j< len(nums)-1 and nums[1] == nums[j+1] : j += 1\n",
        "                    while k>0 and nums[k] == nums[k-1] : k -= 1\n",
        "                    j += 1\n",
        "                    k -= 1\n",
        "        return result\n",
        "\n",
        "        \"\"\"\n",
        "        :type nums: List[int]\n",
        "        :rtype: List[List[int]]\n",
        "        \"\"\""
      ]
    }
  ]
}