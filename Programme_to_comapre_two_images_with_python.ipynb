{
  "nbformat": 4,
  "nbformat_minor": 0,
  "metadata": {
    "colab": {
      "provenance": [],
      "collapsed_sections": [],
      "authorship_tag": "ABX9TyNzHY7VQjhKEFn4V/h9kn7v",
      "include_colab_link": true
    },
    "kernelspec": {
      "name": "python3",
      "display_name": "Python 3"
    },
    "language_info": {
      "name": "python"
    }
  },
  "cells": [
    {
      "cell_type": "markdown",
      "metadata": {
        "id": "view-in-github",
        "colab_type": "text"
      },
      "source": [
        "<a href=\"https://colab.research.google.com/github/Psubrat98/Python-Programs/blob/main/Programme_to_comapre_two_images_with_python.ipynb\" target=\"_parent\"><img src=\"https://colab.research.google.com/assets/colab-badge.svg\" alt=\"Open In Colab\"/></a>"
      ]
    },
    {
      "cell_type": "code",
      "execution_count": 5,
      "metadata": {
        "id": "5HeGnR8asUoK"
      },
      "outputs": [],
      "source": [
        "import matplotlib.image as mpimg\n",
        "import numpy as np"
      ]
    },
    {
      "cell_type": "code",
      "source": [
        "img1 = mpimg.imread('/content/solar_Fri_Jun_30_12__53__25_2017_L_0.729484432888_I_0.642505882353.jpg')\n",
        "img2 = mpimg.imread('/content/solar_Fri_Jun_30_12__53__30_2017_L_0.729484432888_I_0.642505882353.jpg')"
      ],
      "metadata": {
        "id": "oz1azwSitbca"
      },
      "execution_count": 11,
      "outputs": []
    },
    {
      "cell_type": "code",
      "source": [
        "comparison = img1 == img2\n",
        "eq = comparison.all()\n",
        "print(eq)"
      ],
      "metadata": {
        "colab": {
          "base_uri": "https://localhost:8080/"
        },
        "id": "PIcaJWQbuifg",
        "outputId": "575d7f59-5107-4697-c97f-91270aa7c20d"
      },
      "execution_count": 12,
      "outputs": [
        {
          "output_type": "stream",
          "name": "stdout",
          "text": [
            "False\n"
          ]
        }
      ]
    },
    {
      "cell_type": "code",
      "source": [],
      "metadata": {
        "id": "KJkJpStTvckQ"
      },
      "execution_count": null,
      "outputs": []
    }
  ]
}